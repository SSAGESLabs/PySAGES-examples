{
 "cells": [
  {
   "cell_type": "markdown",
   "metadata": {
    "id": "T-Qkg9C9n7Cc"
   },
   "source": [
    "# Setting up the environment\n",
    "\n",
    "First, we are setting up our environment. We use an already compiled and packaged installation of HOOMD-blue and the DLExt plugin.\n",
    "We copy it from Google Drive and install PySAGES for it."
   ]
  },
  {
   "cell_type": "code",
   "execution_count": 1,
   "metadata": {
    "id": "3eTbKklCnyd_"
   },
   "outputs": [],
   "source": [
    "%%bash\n",
    "\n",
    "BASE_URL=\"https://drive.google.com/u/0/uc?id=1hsKkKtdxZTVfHKgqVF6qV2e-4SShmhr7&export=download\"\n",
    "wget -q --load-cookies /tmp/cookies.txt \"$BASE_URL&confirm=$(wget -q --save-cookies /tmp/cookies.txt --keep-session-cookies --no-check-certificate $BASE_URL -O- | sed -rn 's/.*confirm=(\\w+).*/\\1\\n/p')\" -O pysages-env.zip\n",
    "rm -rf /tmp/cookies.txt"
   ]
  },
  {
   "cell_type": "code",
   "execution_count": 2,
   "metadata": {
    "colab": {
     "base_uri": "https://localhost:8080/"
    },
    "id": "KRPmkpd9n_NG",
    "outputId": "2c72bbc3-0731-4d62-98e1-d48f8254adcb"
   },
   "outputs": [
    {
     "name": "stdout",
     "output_type": "stream",
     "text": [
      "env: PYSAGES_ENV=/env/pysages\n"
     ]
    }
   ],
   "source": [
    "%env PYSAGES_ENV=/env/pysages"
   ]
  },
  {
   "cell_type": "code",
   "execution_count": 3,
   "metadata": {
    "id": "J7OY5K9VoBBh"
   },
   "outputs": [],
   "source": [
    "%%bash\n",
    "\n",
    "mkdir -p $PYSAGES_ENV .\n",
    "unzip -qquo pysages-env.zip -d $PYSAGES_ENV"
   ]
  },
  {
   "cell_type": "code",
   "execution_count": 4,
   "metadata": {
    "id": "LlVSU_-FoD4w"
   },
   "outputs": [],
   "source": [
    "!update-alternatives --auto libcudnn &> /dev/null"
   ]
  },
  {
   "cell_type": "code",
   "execution_count": 5,
   "metadata": {
    "id": "EMAWp8VloIk4"
   },
   "outputs": [],
   "source": [
    "import os\n",
    "import sys\n",
    "\n",
    "ver = sys.version_info\n",
    "sys.path.append(os.environ[\"PYSAGES_ENV\"] + \"/lib/python\" + str(ver.major) + \".\" + str(ver.minor) + \"/site-packages/\")\n",
    "\n",
    "os.environ[\"XLA_FLAGS\"] = \"--xla_gpu_strict_conv_algorithm_picker=false\"\n",
    "os.environ[\"LD_LIBRARY_PATH\"] = \"/usr/lib/x86_64-linux-gnu:\" + os.environ[\"LD_LIBRARY_PATH\"]"
   ]
  },
  {
   "cell_type": "markdown",
   "metadata": {
    "id": "we_mTkFioS6R"
   },
   "source": [
    "## PySAGES\n",
    "\n",
    "The next step is to install PySAGES.\n",
    "First, we install the jaxlib version that matches the CUDA installation of this Colab setup. See the JAX documentation [here](https://github.com/google/jax) for more details."
   ]
  },
  {
   "cell_type": "code",
   "execution_count": 6,
   "metadata": {
    "id": "vK0RZtbroQWe"
   },
   "outputs": [],
   "source": [
    "%%bash\n",
    "\n",
    "pip install -q --upgrade pip\n",
    "# Installs the wheel compatible with CUDA 11 and cuDNN 8.0.5.\n",
    "pip install -q --upgrade \"jax[cuda11_cudnn805]\" -f https://storage.googleapis.com/jax-releases/jax_cuda_releases.html &> /dev/null"
   ]
  },
  {
   "cell_type": "markdown",
   "metadata": {
    "id": "wAtjM-IroYX8"
   },
   "source": [
    "Now we can finally install PySAGES. We clone the newest version from [here](https://github.com/SSAGESLabs/PySAGES) and build the remaining pure python dependencies and PySAGES itself."
   ]
  },
  {
   "cell_type": "code",
   "execution_count": 7,
   "metadata": {
    "id": "B-HB9CzioV5j"
   },
   "outputs": [],
   "source": [
    "%%bash\n",
    "\n",
    "rm -rf PySAGES\n",
    "git clone https://github.com/SSAGESLabs/PySAGES.git &> /dev/null\n",
    "cd PySAGES\n",
    "pip install -q . &> /dev/null"
   ]
  },
  {
   "cell_type": "code",
   "execution_count": 8,
   "metadata": {
    "id": "ppTzMmyyobHB"
   },
   "outputs": [],
   "source": [
    "%%bash\n",
    "\n",
    "mkdir /content/funn\n",
    "cd /content/funn"
   ]
  },
  {
   "cell_type": "markdown",
   "metadata": {
    "id": "KBFVcG1FoeMq"
   },
   "source": [
    "# FUNN-biased simulations"
   ]
  },
  {
   "cell_type": "markdown",
   "metadata": {
    "id": "0W2ukJuuojAl"
   },
   "source": [
    "FUNN gradually learns the free energy gradient from a discrete estimate based on the same algorithm as the ABF method, but employs a neural network to provide a continuous approximation to it.\n",
    "\n",
    "For this Colab, we are using butane as the example molecule."
   ]
  },
  {
   "cell_type": "code",
   "execution_count": 9,
   "metadata": {
    "id": "BBvC7Spoog82"
   },
   "outputs": [],
   "source": [
    "import hoomd\n",
    "import hoomd.md\n",
    "\n",
    "import numpy\n",
    "\n",
    "\n",
    "pi = numpy.pi\n",
    "kT = 0.596161\n",
    "dt = 0.02045\n",
    "mode = \"--mode=gpu\"\n",
    "\n",
    "\n",
    "def generate_context(kT = kT, dt = dt, mode = mode):\n",
    "    \"\"\"\n",
    "    Generates a simulation context, we pass this function to the attribute\n",
    "    `run` of our sampling method.\n",
    "    \"\"\"\n",
    "    hoomd.context.initialize(mode)\n",
    "\n",
    "    ### System Definition\n",
    "    snapshot = hoomd.data.make_snapshot(\n",
    "        N = 14,\n",
    "        box = hoomd.data.boxdim(Lx = 41, Ly = 41, Lz = 41),\n",
    "        particle_types = ['C', 'H'],\n",
    "        bond_types = [\"CC\", \"CH\"],\n",
    "        angle_types = [\"CCC\", \"CCH\", \"HCH\"],\n",
    "        dihedral_types = [\"CCCC\", \"HCCC\", \"HCCH\"],\n",
    "        pair_types = [\"CCCC\", \"HCCC\", \"HCCH\"],\n",
    "        dtype = \"double\"\n",
    "    )\n",
    "\n",
    "    snapshot.particles.typeid[0] = 0\n",
    "    snapshot.particles.typeid[1:4] = 1\n",
    "    snapshot.particles.typeid[4] = 0\n",
    "    snapshot.particles.typeid[5:7] = 1\n",
    "    snapshot.particles.typeid[7] = 0\n",
    "    snapshot.particles.typeid[8:10] = 1\n",
    "    snapshot.particles.typeid[10] = 0\n",
    "    snapshot.particles.typeid[11:14] = 1\n",
    "\n",
    "    positions = numpy.array([\n",
    "        [-2.990196,  0.097881,  0.000091],\n",
    "        [-2.634894, -0.911406,  0.001002],\n",
    "        [-2.632173,  0.601251, -0.873601],\n",
    "        [-4.060195,  0.099327, -0.000736],\n",
    "        [-2.476854,  0.823942,  1.257436],\n",
    "        [-2.832157,  1.833228,  1.256526],\n",
    "        [-2.834877,  0.320572,  2.131128],\n",
    "        [-0.936856,  0.821861,  1.258628],\n",
    "        [-0.578833,  1.325231,  0.384935],\n",
    "        [-0.581553, -0.187426,  1.259538],\n",
    "        [-0.423514,  1.547922,  2.515972],\n",
    "        [-0.781537,  1.044552,  3.389664],\n",
    "        [ 0.646485,  1.546476,  2.516800],\n",
    "        [-0.778816,  2.557208,  2.515062]\n",
    "    ])\n",
    "\n",
    "    reference_box_low_coords = numpy.array([-22.206855, -19.677099, -19.241968])\n",
    "    box_low_coords = numpy.array([\n",
    "        -snapshot.box.Lx / 2,\n",
    "        -snapshot.box.Ly / 2,\n",
    "        -snapshot.box.Lz / 2\n",
    "    ])\n",
    "    positions += (box_low_coords - reference_box_low_coords)\n",
    "\n",
    "    snapshot.particles.position[:] = positions[:]\n",
    "\n",
    "    mC = 12.00\n",
    "    mH = 1.008\n",
    "    snapshot.particles.mass[:] = [\n",
    "        mC, mH, mH, mH,\n",
    "        mC, mH, mH,\n",
    "        mC, mH, mH,\n",
    "        mC, mH, mH, mH\n",
    "    ]\n",
    "\n",
    "    reference_charges = numpy.array([\n",
    "        -0.180000, 0.060000, 0.060000, 0.060000,\n",
    "        -0.120000, 0.060000, 0.060000,\n",
    "        -0.120000, 0.060000, 0.060000,\n",
    "        -0.180000, 0.060000, 0.060000, 0.060000]\n",
    "    )\n",
    "    charge_conversion = 18.22262\n",
    "    snapshot.particles.charge[:] = charge_conversion * reference_charges[:]\n",
    "\n",
    "    snapshot.bonds.resize(13)\n",
    "    snapshot.bonds.typeid[0:3] = 1\n",
    "    snapshot.bonds.typeid[3] = 0\n",
    "    snapshot.bonds.typeid[4:6] = 1\n",
    "    snapshot.bonds.typeid[6] = 0\n",
    "    snapshot.bonds.typeid[7:9] = 1\n",
    "    snapshot.bonds.typeid[9] = 0\n",
    "    snapshot.bonds.typeid[10:13] = 1\n",
    "\n",
    "    snapshot.bonds.group[:] = [\n",
    "        [0, 2], [0, 1], [0, 3], [0, 4],\n",
    "        [4, 5], [4, 6], [4, 7],\n",
    "        [7, 8], [7, 9], [7, 10],\n",
    "        [10, 11], [10, 12], [10, 13]\n",
    "    ]\n",
    "\n",
    "    snapshot.angles.resize(24)\n",
    "    snapshot.angles.typeid[0:2] = 2\n",
    "    snapshot.angles.typeid[2] = 1\n",
    "    snapshot.angles.typeid[3] = 2\n",
    "    snapshot.angles.typeid[4:8] = 1\n",
    "    snapshot.angles.typeid[8] = 0\n",
    "    snapshot.angles.typeid[9] = 2\n",
    "    snapshot.angles.typeid[10:14] = 1\n",
    "    snapshot.angles.typeid[14] = 0\n",
    "    snapshot.angles.typeid[15] = 2\n",
    "    snapshot.angles.typeid[16:21] = 1\n",
    "    snapshot.angles.typeid[21:24] = 2\n",
    "\n",
    "    snapshot.angles.group[:] = [\n",
    "        [1, 0, 2], [2, 0, 3], [2, 0, 4],\n",
    "        [1, 0, 3], [1, 0, 4], [3, 0, 4],\n",
    "        [0, 4, 5], [0, 4, 6], [0, 4, 7],\n",
    "        [5, 4, 6], [5, 4, 7], [6, 4, 7],\n",
    "        [4, 7, 8], [4, 7, 9], [4, 7, 10],\n",
    "        [8, 7, 9], [8, 7, 10], [9, 7, 10],\n",
    "        [7, 10, 11], [7, 10, 12], [7, 10, 13],\n",
    "        [11, 10, 12], [11, 10, 13], [12, 10, 13]\n",
    "    ]\n",
    "\n",
    "    snapshot.dihedrals.resize(27)\n",
    "    snapshot.dihedrals.typeid[0:2] = 2\n",
    "    snapshot.dihedrals.typeid[2] = 1\n",
    "    snapshot.dihedrals.typeid[3:5] = 2\n",
    "    snapshot.dihedrals.typeid[5] = 1\n",
    "    snapshot.dihedrals.typeid[6:8] = 2\n",
    "    snapshot.dihedrals.typeid[8:11] = 1\n",
    "    snapshot.dihedrals.typeid[11] = 0\n",
    "    snapshot.dihedrals.typeid[12:14] = 2\n",
    "    snapshot.dihedrals.typeid[14] = 1\n",
    "    snapshot.dihedrals.typeid[15:17] = 2\n",
    "    snapshot.dihedrals.typeid[17:21] = 1\n",
    "    snapshot.dihedrals.typeid[21:27] = 2\n",
    "\n",
    "    snapshot.dihedrals.group[:] = [\n",
    "        [2, 0, 4, 5], [2, 0, 4, 6], [2, 0, 4, 7],\n",
    "        [1, 0, 4, 5], [1, 0, 4, 6], [1, 0, 4, 7],\n",
    "        [3, 0, 4, 5], [3, 0, 4, 6], [3, 0, 4, 7],\n",
    "        [0, 4, 7, 8], [0, 4, 7, 9], [0, 4, 7, 10],\n",
    "        [5, 4, 7, 8], [5, 4, 7, 9], [5, 4, 7, 10],\n",
    "        [6, 4, 7, 8], [6, 4, 7, 9], [6, 4, 7, 10],\n",
    "        [4, 7, 10, 11], [4, 7, 10, 12], [4, 7, 10, 13],\n",
    "        [8, 7, 10, 11], [8, 7, 10, 12], [8, 7, 10, 13],\n",
    "        [9, 7, 10, 11], [9, 7, 10, 12], [9, 7, 10, 13]\n",
    "    ]\n",
    "\n",
    "    snapshot.pairs.resize(27)\n",
    "    snapshot.pairs.typeid[0:1] = 0\n",
    "    snapshot.pairs.typeid[1:11] = 1\n",
    "    snapshot.pairs.typeid[11:27] = 2\n",
    "    snapshot.pairs.group[:] = [\n",
    "        # CCCC\n",
    "        [0, 10],\n",
    "        # HCCC\n",
    "        [0, 8], [0, 9], [5, 10], [6, 10],\n",
    "        [1, 7], [2, 7], [3, 7],\n",
    "        [11, 4], [12, 4], [13, 4],\n",
    "        # HCCH\n",
    "        [1, 5], [1, 6], [2, 5], [2, 6], [3, 5], [3, 6],\n",
    "        [5, 8], [6, 8], [5, 9], [6, 9],\n",
    "        [8, 11], [8, 12], [8, 13], [9, 11], [9, 12], [9, 13]\n",
    "    ]\n",
    "\n",
    "    hoomd.init.read_snapshot(snapshot)\n",
    "\n",
    "    ### Set interactions\n",
    "    nl_ex = hoomd.md.nlist.cell()\n",
    "    nl_ex.reset_exclusions(exclusions = [\"1-2\", \"1-3\", \"1-4\"])\n",
    "\n",
    "    lj = hoomd.md.pair.lj(r_cut = 12.0, nlist = nl_ex)\n",
    "    lj.pair_coeff.set('C', 'C', epsilon = 0.07, sigma = 3.55)\n",
    "    lj.pair_coeff.set('H', 'H', epsilon = 0.03, sigma = 2.42)\n",
    "    lj.pair_coeff.set('C', 'H', epsilon = numpy.sqrt(0.07*0.03), sigma = numpy.sqrt(3.55*2.42))\n",
    "\n",
    "    coulomb = hoomd.md.charge.pppm(hoomd.group.charged(), nlist = nl_ex)\n",
    "    coulomb.set_params(Nx = 64, Ny = 64, Nz = 64, order = 6, rcut = 12.0)\n",
    "\n",
    "    harmonic = hoomd.md.bond.harmonic()\n",
    "    harmonic.bond_coeff.set(\"CC\", k = 2*268.0, r0 = 1.529)\n",
    "    harmonic.bond_coeff.set(\"CH\", k = 2*340.0, r0 = 1.09)\n",
    "\n",
    "    angle = hoomd.md.angle.harmonic()\n",
    "    angle.angle_coeff.set(\"CCC\", k = 2*58.35, t0 = 112.7 * pi / 180)\n",
    "    angle.angle_coeff.set(\"CCH\", k = 2*37.5, t0 = 110.7 * pi / 180)\n",
    "    angle.angle_coeff.set(\"HCH\", k = 2*33.0, t0 = 107.8 * pi / 180)\n",
    "\n",
    "\n",
    "    dihedral = hoomd.md.dihedral.opls()\n",
    "    dihedral.dihedral_coeff.set(\"CCCC\", k1 = 1.3, k2 = -0.05, k3 = 0.2, k4 = 0.0)\n",
    "    dihedral.dihedral_coeff.set(\"HCCC\", k1 = 0.0, k2 = 0.0, k3 = 0.3, k4 = 0.0)\n",
    "    dihedral.dihedral_coeff.set(\"HCCH\", k1 = 0.0, k2 = 0.0, k3 = 0.3, k4 = 0.0)\n",
    "\n",
    "    lj_special_pairs = hoomd.md.special_pair.lj()\n",
    "    lj_special_pairs.pair_coeff.set(\"CCCC\", epsilon = 0.07, sigma = 3.55, r_cut = 12.0)\n",
    "    lj_special_pairs.pair_coeff.set(\"HCCH\", epsilon = 0.03, sigma = 2.42, r_cut = 12.0)\n",
    "    lj_special_pairs.pair_coeff.set(\"HCCC\",\n",
    "        epsilon = numpy.sqrt(0.07 * 0.03), sigma = numpy.sqrt(3.55 * 2.42), r_cut = 12.0\n",
    "    )\n",
    "\n",
    "    coulomb_special_pairs = hoomd.md.special_pair.coulomb()\n",
    "    coulomb_special_pairs.pair_coeff.set(\"CCCC\", alpha = 0.5, r_cut = 12.0)\n",
    "    coulomb_special_pairs.pair_coeff.set(\"HCCC\", alpha = 0.5, r_cut = 12.0)\n",
    "    coulomb_special_pairs.pair_coeff.set(\"HCCH\", alpha = 0.5, r_cut = 12.0)\n",
    "\n",
    "    hoomd.md.integrate.mode_standard(dt = dt)\n",
    "    integrator = hoomd.md.integrate.nvt(group = hoomd.group.all(), kT = kT, tau = 100*dt)\n",
    "    integrator.randomize_velocities(seed = 42)\n",
    "\n",
    "    return hoomd.context.current"
   ]
  },
  {
   "cell_type": "markdown",
   "metadata": {
    "id": "3UrzENm_oo6U"
   },
   "source": [
    "Next, we load PySAGES and the relevant classes and methods for our problem"
   ]
  },
  {
   "cell_type": "code",
   "execution_count": 10,
   "metadata": {
    "id": "fpMg-o8WomAA"
   },
   "outputs": [],
   "source": [
    "from pysages.grids import Grid\n",
    "from pysages.colvars import DihedralAngle\n",
    "from pysages.methods import FUNN\n",
    "\n",
    "import pysages"
   ]
  },
  {
   "cell_type": "markdown",
   "metadata": {
    "id": "LknkRvo1o4av"
   },
   "source": [
    "The next step is to define the collective variable (CV). In this case, we choose the central dihedral angle.\n",
    "\n",
    "We also define a grid to bin our CV space, the topology (tuple indicating the number of\n",
    "nodes of each hidden layer) for our neural network which will model the free energy.\n",
    "\n",
    "The appropriate number of bins depends on the complexity of the free energy landscape,\n",
    "a good rule of thumb is to choose between 20 to 100 bins along each CV dimension\n",
    "(using higher values for more rugged free energy surfaces), but it can be systematically\n",
    "found trying different values for short runs of any given system."
   ]
  },
  {
   "cell_type": "code",
   "execution_count": 12,
   "metadata": {
    "id": "B1Z8FWz0o7u_"
   },
   "outputs": [],
   "source": [
    "cvs = [DihedralAngle([0, 4, 7, 10])]\n",
    "grid = Grid(lower=(-pi,), upper=(pi,), shape=(64,), periodic=True)\n",
    "\n",
    "topology = (14,)\n",
    "method = FUNN(cvs, grid, topology)"
   ]
  },
  {
   "cell_type": "markdown",
   "metadata": {
    "id": "Fz8BfU34pA_N"
   },
   "source": [
    "We now simulate $5\\times10^5$ time steps.\n",
    "Make sure to run with GPU support, otherwise, it can take a very long time."
   ]
  },
  {
   "cell_type": "code",
   "execution_count": 13,
   "metadata": {
    "colab": {
     "base_uri": "https://localhost:8080/"
    },
    "id": "K951m4BbpUar",
    "outputId": "f3e79872-41da-479a-caec-5bca7a6792e5"
   },
   "outputs": [
    {
     "name": "stdout",
     "output_type": "stream",
     "text": [
      "HOOMD-blue v2.9.7 CUDA (11.1) DOUBLE HPMC_MIXED SSE SSE2 \n",
      "Compiled: 01/26/2022\n",
      "Copyright (c) 2009-2019 The Regents of the University of Michigan.\n",
      "-----\n",
      "You are using HOOMD-blue. Please cite the following:\n",
      "* J A Anderson, J Glaser, and S C Glotzer. \"HOOMD-blue: A Python package for\n",
      "  high-performance molecular dynamics and hard particle Monte Carlo\n",
      "  simulations\", Computational Materials Science 173 (2020) 109363\n",
      "-----\n",
      "HOOMD-blue is running on the following GPU(s):\n",
      " [0]              Tesla T4  40 SM_7.5 @ 1.59 GHz, 15109 MiB DRAM, MNG\n",
      "notice(2): Group \"all\" created containing 14 particles\n",
      "notice(2): -- Neighborlist exclusion statistics -- :\n",
      "notice(2): Particles with 7 exclusions             : 6\n",
      "notice(2): Particles with 10 exclusions             : 6\n",
      "notice(2): Particles with 13 exclusions             : 2\n",
      "notice(2): Neighbors included by diameter          : no\n",
      "notice(2): Neighbors excluded when in the same body: no\n",
      "notice(2): Group \"charged\" created containing 14 particles\n",
      "-----\n",
      "You are using PPPM. Please cite the following:\n",
      "* D N LeBard, B G Levine, S A Barr, A Jusufi, S Sanders, M L Klein, and A Z\n",
      "  Panagiotopoulos. \"Self-assembly of coarse-grained ionic surfactants\n",
      "  accelerated by graphics processing units\", Journal of Computational Physics 8\n",
      "  (2012) 2385-2397\n",
      "-----\n",
      "** starting run **\n",
      "notice(2): charge.pppm: RMS error: 1.29239e-08\n",
      "Time 00:00:17 | Step 1 / 500000 | TPS 0.0732032 | ETA 1897:18:05\n",
      "Time 00:00:27 | Step 7592 / 500000 | TPS 758.816 | ETA 00:10:48\n",
      "Time 00:00:37 | Step 13193 / 500000 | TPS 560.085 | ETA 00:14:29\n",
      "Time 00:00:47 | Step 20640 / 500000 | TPS 744.654 | ETA 00:10:43\n",
      "Time 00:00:57 | Step 28318 / 500000 | TPS 767.734 | ETA 00:10:14\n",
      "Time 00:01:07 | Step 35850 / 500000 | TPS 753.193 | ETA 00:10:16\n",
      "Time 00:01:17 | Step 43551 / 500000 | TPS 770.023 | ETA 00:09:52\n",
      "Time 00:01:27 | Step 51318 / 500000 | TPS 776.692 | ETA 00:09:37\n",
      "Time 00:01:37 | Step 59324 / 500000 | TPS 800.505 | ETA 00:09:10\n",
      "Time 00:01:47 | Step 67114 / 500000 | TPS 778.955 | ETA 00:09:15\n",
      "Time 00:01:57 | Step 75064 / 500000 | TPS 794.909 | ETA 00:08:54\n",
      "Time 00:02:07 | Step 83021 / 500000 | TPS 795.668 | ETA 00:08:44\n",
      "Time 00:02:17 | Step 90477 / 500000 | TPS 745.559 | ETA 00:09:09\n",
      "Time 00:02:27 | Step 98335 / 500000 | TPS 785.723 | ETA 00:08:31\n",
      "Time 00:02:37 | Step 106243 / 500000 | TPS 790.778 | ETA 00:08:17\n",
      "Time 00:02:47 | Step 114040 / 500000 | TPS 779.622 | ETA 00:08:15\n",
      "Time 00:02:57 | Step 121787 / 500000 | TPS 774.697 | ETA 00:08:08\n",
      "Time 00:03:07 | Step 129815 / 500000 | TPS 802.792 | ETA 00:07:41\n",
      "Time 00:03:17 | Step 137806 / 500000 | TPS 799.042 | ETA 00:07:33\n",
      "Time 00:03:27 | Step 145757 / 500000 | TPS 795.059 | ETA 00:07:25\n",
      "Time 00:03:37 | Step 153686 / 500000 | TPS 792.881 | ETA 00:07:16\n",
      "Time 00:03:47 | Step 161675 / 500000 | TPS 798.876 | ETA 00:07:03\n",
      "Time 00:03:57 | Step 169735 / 500000 | TPS 805.934 | ETA 00:06:49\n",
      "Time 00:04:07 | Step 177705 / 500000 | TPS 796.984 | ETA 00:06:44\n",
      "Time 00:04:17 | Step 185701 / 500000 | TPS 799.506 | ETA 00:06:33\n",
      "Time 00:04:27 | Step 193732 / 500000 | TPS 803.083 | ETA 00:06:21\n",
      "Time 00:04:37 | Step 201721 / 500000 | TPS 798.886 | ETA 00:06:13\n",
      "Time 00:04:47 | Step 209788 / 500000 | TPS 806.638 | ETA 00:05:59\n",
      "Time 00:04:57 | Step 217359 / 500000 | TPS 757.091 | ETA 00:06:13\n",
      "Time 00:05:07 | Step 225288 / 500000 | TPS 792.851 | ETA 00:05:46\n",
      "Time 00:05:17 | Step 233355 / 500000 | TPS 806.656 | ETA 00:05:30\n",
      "Time 00:05:27 | Step 241340 / 500000 | TPS 798.445 | ETA 00:05:23\n",
      "Time 00:05:37 | Step 249323 / 500000 | TPS 798.266 | ETA 00:05:14\n",
      "Time 00:05:47 | Step 257155 / 500000 | TPS 783.125 | ETA 00:05:10\n",
      "Time 00:05:57 | Step 265070 / 500000 | TPS 791.422 | ETA 00:04:56\n",
      "Time 00:06:07 | Step 272750 / 500000 | TPS 767.941 | ETA 00:04:55\n",
      "Time 00:06:17 | Step 280712 / 500000 | TPS 796.126 | ETA 00:04:35\n",
      "Time 00:06:27 | Step 288704 / 500000 | TPS 799.14 | ETA 00:04:24\n",
      "Time 00:06:37 | Step 296196 / 500000 | TPS 749.197 | ETA 00:04:32\n",
      "Time 00:06:47 | Step 304149 / 500000 | TPS 795.218 | ETA 00:04:06\n",
      "Time 00:06:57 | Step 311950 / 500000 | TPS 780.038 | ETA 00:04:01\n",
      "Time 00:07:07 | Step 319783 / 500000 | TPS 783.286 | ETA 00:03:50\n",
      "Time 00:07:17 | Step 327627 / 500000 | TPS 784.356 | ETA 00:03:39\n",
      "Time 00:07:27 | Step 335660 / 500000 | TPS 803.279 | ETA 00:03:24\n",
      "Time 00:07:37 | Step 343705 / 500000 | TPS 804.431 | ETA 00:03:14\n",
      "Time 00:07:47 | Step 351772 / 500000 | TPS 806.675 | ETA 00:03:03\n",
      "Time 00:07:57 | Step 359884 / 500000 | TPS 811.15 | ETA 00:02:52\n",
      "Time 00:08:07 | Step 368008 / 500000 | TPS 812.378 | ETA 00:02:42\n",
      "Time 00:08:17 | Step 376084 / 500000 | TPS 807.507 | ETA 00:02:33\n",
      "Time 00:08:27 | Step 384167 / 500000 | TPS 808.24 | ETA 00:02:23\n",
      "Time 00:08:37 | Step 392255 / 500000 | TPS 808.744 | ETA 00:02:13\n",
      "Time 00:08:47 | Step 400350 / 500000 | TPS 809.48 | ETA 00:02:03\n",
      "Time 00:08:57 | Step 408442 / 500000 | TPS 809.159 | ETA 00:01:53\n",
      "Time 00:09:07 | Step 416511 / 500000 | TPS 806.825 | ETA 00:01:43\n",
      "Time 00:09:17 | Step 424601 / 500000 | TPS 808.994 | ETA 00:01:33\n",
      "Time 00:09:27 | Step 432658 / 500000 | TPS 805.625 | ETA 00:01:23\n",
      "Time 00:09:37 | Step 440748 / 500000 | TPS 808.96 | ETA 00:01:13\n",
      "Time 00:09:47 | Step 448902 / 500000 | TPS 815.32 | ETA 00:01:02\n",
      "Time 00:09:57 | Step 456957 / 500000 | TPS 805.407 | ETA 00:00:53\n",
      "Time 00:10:07 | Step 465002 / 500000 | TPS 804.458 | ETA 00:00:43\n",
      "Time 00:10:17 | Step 472850 / 500000 | TPS 784.792 | ETA 00:00:34\n",
      "Time 00:10:27 | Step 480630 / 500000 | TPS 777.989 | ETA 00:00:24\n",
      "Time 00:10:37 | Step 488708 / 500000 | TPS 807.714 | ETA 00:00:13\n",
      "Time 00:10:47 | Step 496698 / 500000 | TPS 798.906 | ETA 00:00:04\n",
      "Time 00:10:51 | Step 500000 / 500000 | TPS 814.111 | ETA 00:00:00\n",
      "Average TPS: 771.893\n",
      "---------\n",
      "-- Neighborlist stats:\n",
      "82167 normal updates / 1667 forced updates / 0 dangerous updates\n",
      "n_neigh_min: 0 / n_neigh_max: 6 / n_neigh_avg: 3.85714\n",
      "shortest rebuild period: 2\n",
      "-- Cell list stats:\n",
      "Dimension: 3, 3, 3\n",
      "n_min    : 0 / n_max: 14 / n_avg: 0.518519\n",
      "** run complete **\n"
     ]
    }
   ],
   "source": [
    "method.run(generate_context, int(5e5))"
   ]
  },
  {
   "cell_type": "markdown",
   "metadata": {
    "id": "PXBKUfK0p9T2"
   },
   "source": [
    "Since the neural network learns the gradient of the free energy, we need a separate way of integrating it to find the free energy surface. Let's plot first the gradient of the free energy."
   ]
  },
  {
   "cell_type": "code",
   "execution_count": 14,
   "metadata": {
    "id": "X69d1R7OpW4P"
   },
   "outputs": [],
   "source": [
    "from pysages.approxfun import compute_mesh\n",
    "from pysages.ml.utils import pack, unpack\n",
    "\n",
    "import matplotlib.pyplot as plt"
   ]
  },
  {
   "cell_type": "code",
   "execution_count": 15,
   "metadata": {
    "id": "6W7Xf0ilqAcm"
   },
   "outputs": [],
   "source": [
    "xi = (compute_mesh(grid) + 1) / 2 * grid.size + grid.lower\n",
    "\n",
    "model = method.model\n",
    "layout = unpack(model.parameters)[1]\n",
    "\n",
    "state = method.context[0].sampler.state\n",
    "nn = state.nn\n",
    "params = pack(nn.params, layout)\n",
    "dA = nn.std * model.apply(params, xi.reshape(-1, 1)) + nn.mean"
   ]
  },
  {
   "cell_type": "code",
   "execution_count": 16,
   "metadata": {
    "colab": {
     "base_uri": "https://localhost:8080/",
     "height": 300
    },
    "id": "TBiPAnMwqEIF",
    "outputId": "3a13a52d-2bd8-4122-db13-18bc6a11c797"
   },
   "outputs": [
    {
     "data": {
      "text/plain": [
       "<matplotlib.axes._subplots.AxesSubplot at 0x7f7090272950>"
      ]
     },
     "execution_count": 16,
     "metadata": {},
     "output_type": "execute_result"
    },
    {
     "data": {
      "image/png": "[encoded data removed]",
      "text/plain": [
       "<Figure size 432x288 with 1 Axes>"
      ]
     },
     "metadata": {
      "needs_background": "light"
     },
     "output_type": "display_data"
    }
   ],
   "source": [
    "fig, ax = plt.subplots()\n",
    "\n",
    "ax.set_xlabel(r\"Dihedral Angle, $\\xi$\")\n",
    "ax.set_ylabel(r\"$\\nabla A(\\xi)$\")\n",
    "\n",
    "ax.plot(xi, dA)\n",
    "plt.gca()"
   ]
  },
  {
   "cell_type": "markdown",
   "metadata": {
    "id": "Kf_CMdih90Cd"
   },
   "source": [
    "Finally, we make use of the `pysages.approxfun` module to build a Fourier series approximation to the free energy"
   ]
  },
  {
   "cell_type": "code",
   "execution_count": 17,
   "metadata": {
    "id": "pTIGVSSqKdbs"
   },
   "outputs": [],
   "source": [
    "from pysages.approxfun import SpectralGradientFit, build_evaluator, build_fitter\n",
    "\n",
    "fourier_model = SpectralGradientFit(grid)\n",
    "fourier_fit = build_fitter(fourier_model)\n",
    "evaluate = build_evaluator(fourier_model)\n",
    "\n",
    "fun = fourier_fit(dA)\n",
    "A = evaluate(fun, compute_mesh(grid))\n",
    "A = A.max() - A"
   ]
  },
  {
   "cell_type": "code",
   "execution_count": 18,
   "metadata": {
    "colab": {
     "base_uri": "https://localhost:8080/",
     "height": 303
    },
    "id": "7_d_XfVLLkbI",
    "outputId": "3bd503ea-fe33-4a57-a28d-1c3a70e63c50"
   },
   "outputs": [
    {
     "data": {
      "text/plain": [
       "<matplotlib.axes._subplots.AxesSubplot at 0x7f70461a4bd0>"
      ]
     },
     "execution_count": 18,
     "metadata": {},
     "output_type": "execute_result"
    },
    {
     "data": {
      "image/png": "[encoded data removed]",
      "text/plain": [
       "<Figure size 432x288 with 1 Axes>"
      ]
     },
     "metadata": {
      "needs_background": "light"
     },
     "output_type": "display_data"
    }
   ],
   "source": [
    "fig, ax = plt.subplots()\n",
    "\n",
    "ax.set_xlabel(r\"Dihedral Angle, $\\xi$\")\n",
    "ax.set_ylabel(r\"$A(\\xi)$\")\n",
    "\n",
    "ax.plot(xi, A)\n",
    "plt.gca()"
   ]
  }
 ],
 "metadata": {
  "accelerator": "GPU",
  "colab": {
   "collapsed_sections": [],
   "name": "Butane-FUNN.ipynb",
   "provenance": []
  },
  "jupytext": {
   "formats": "ipynb,md",
   "main_language": "python"
  },
  "kernelspec": {
   "display_name": "Python 3",
   "name": "python3"
  },
  "language_info": {
   "codemirror_mode": {
    "name": "ipython",
    "version": 3
   },
   "file_extension": ".py",
   "mimetype": "text/x-python",
   "name": "python",
   "nbconvert_exporter": "python",
   "pygments_lexer": "ipython3",
   "version": "3.9.12"
  }
 },
 "nbformat": 4,
 "nbformat_minor": 1
}
